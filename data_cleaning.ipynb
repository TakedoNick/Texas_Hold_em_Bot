{
 "cells": [
  {
   "cell_type": "code",
   "execution_count": 10,
   "metadata": {},
   "outputs": [],
   "source": [
    "import numpy as np\n",
    "from collections import defaultdict\n",
    "\n",
    "# Define mapping for card values and suits\n",
    "card_value_map = {'A': 1, '2': 2, '3': 3, '4': 4, '5': 5, '6': 6, '7': 7, '8': 8, '9': 9, \n",
    "                  'T': 10, 'J': 11, 'Q': 12, 'K': 13}\n",
    "suit_map = {'h': 1, 's': 2, 'd': 3, 'c': 4}\n",
    "\n",
    "class_map = {'Pair': 1, 'Two Pair': 2, 'Three of a Kind': 3, 'Straight': 4, \n",
    "             'Straight (Wheel)': 4, 'Flush': 5, 'Full House': 6,\n",
    "             'Four of a Kind': 7, 'Straight Flush': 8, 'Straight Flush (Wheel)': 8,\n",
    "             'Royal Flush': 9, 'High Card': 0}\n",
    "\n",
    "# Define the number of entries needed per class\n",
    "entries_per_class = 100000  # Example: Adjust this to your need (1 million per class)\n",
    "classes = ['Pair', 'High Card', 'Two Pair', 'Straight']  # Extend this with other classes\n",
    "class_count = defaultdict(int)\n",
    "\n",
    "# Initialize an empty list to hold data\n",
    "data = []\n",
    "\n",
    "def process_line(line):\n",
    "    # Split the line by '->' to separate cards and class\n",
    "    _, hand_info = line.strip().split('->')\n",
    "    \n",
    "    # Get the cards and the class (trim spaces)\n",
    "    cards = hand_info.split(',')[0].strip()\n",
    "    hand_class = hand_info.split(',')[1].strip()\n",
    "    hand_class = class_map[hand_class]\n",
    "    # If the class count is already full, skip\n",
    "    if class_count[hand_class] >= entries_per_class:\n",
    "        return None\n",
    "    \n",
    "    # Process the cards into numerical form\n",
    "    card_array = []\n",
    "    for card in cards.split():\n",
    "        value = card_value_map[card[0]]\n",
    "        suit = suit_map[card[1]]\n",
    "        card_array.append([suit, value])\n",
    "    \n",
    "    # Flatten the card_array and append the class to it\n",
    "    card_array_flat = [item for sublist in card_array for item in sublist]\n",
    "    \n",
    "    # Add the class string at the end\n",
    "    card_array_flat.append(hand_class)\n",
    "    \n",
    "    # Increment the class count\n",
    "    class_count[hand_class] += 1\n",
    "    \n",
    "    return card_array_flat\n",
    "\n",
    "def process_file(filename):\n",
    "    with open(filename, 'r') as file:\n",
    "        for line in file:\n",
    "            processed = process_line(line)\n",
    "            if processed:\n",
    "                data.append(processed)\n",
    "            # Stop if we've collected enough entries for each class\n",
    "            if all(count >= entries_per_class for count in class_count.values()):\n",
    "                break\n"
   ]
  },
  {
   "cell_type": "code",
   "execution_count": 11,
   "metadata": {},
   "outputs": [
    {
     "data": {
      "text/plain": [
       "(720008, 11)"
      ]
     },
     "execution_count": 11,
     "metadata": {},
     "output_type": "execute_result"
    }
   ],
   "source": [
    "# Filepath for your text file\n",
    "filename = 'Data/poker_hand/poker_hands_10m.txt'\n",
    "\n",
    "# Process the file\n",
    "process_file(filename)\n",
    "\n",
    "# Convert to numpy array (ignoring the class labels for now)\n",
    "data_array = np.array(data)\n",
    "np.shape(data_array)\n",
    "# For example, save to a file for later use\n",
    "# np.save('processed_poker_data.npy', data_array)\n",
    "\n",
    "# You can load this file later using np.load"
   ]
  },
  {
   "cell_type": "code",
   "execution_count": 13,
   "metadata": {},
   "outputs": [
    {
     "name": "stdout",
     "output_type": "stream",
     "text": [
      "(720008, 10)\n",
      "(720008,)\n"
     ]
    }
   ],
   "source": [
    "X, y = np.split(data_array, np.array([10]), axis = 1)\n",
    "print(np.shape(X))\n",
    "y = np.squeeze(y)\n",
    "print(np.shape(y))\n",
    "y_df = pd.DataFrame(y)"
   ]
  },
  {
   "cell_type": "code",
   "execution_count": 14,
   "metadata": {},
   "outputs": [
    {
     "data": {
      "image/png": "[encoded data removed]",
      "text/plain": [
       "<Figure size 640x480 with 1 Axes>"
      ]
     },
     "metadata": {},
     "output_type": "display_data"
    }
   ],
   "source": [
    "from matplotlib import pyplot as plt\n",
    "y_df.hist(bins = range(0, 10))\n",
    "plt.xticks(range(0, 10))\n",
    "plt.show()"
   ]
  },
  {
   "cell_type": "code",
   "execution_count": null,
   "metadata": {},
   "outputs": [],
   "source": []
  }
 ],
 "metadata": {
  "language_info": {
   "name": "python"
  }
 },
 "nbformat": 4,
 "nbformat_minor": 2
}
